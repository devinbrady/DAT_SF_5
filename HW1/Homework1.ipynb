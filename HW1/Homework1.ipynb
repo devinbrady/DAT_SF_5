{
 "metadata": {
  "name": ""
 },
 "nbformat": 3,
 "nbformat_minor": 0,
 "worksheets": [
  {
   "cells": [
    {
     "cell_type": "raw",
     "metadata": {},
     "source": [
      "1. How many passengers are in our passenger list? From here forward, we\u2019ll assume our dataset represents the full passenger list for the Titanic.\n",
      "A: 891 passengers. "
     ]
    },
    {
     "cell_type": "code",
     "collapsed": false,
     "input": [
      "import pandas as pd\n",
      "import numpy as np\n",
      "data = pd.read_csv('data/titanic-train.csv')\n",
      "data.info()"
     ],
     "language": "python",
     "metadata": {},
     "outputs": [
      {
       "output_type": "stream",
       "stream": "stdout",
       "text": [
        "<class 'pandas.core.frame.DataFrame'>\n",
        "Int64Index: 891 entries, 0 to 890\n",
        "Data columns (total 12 columns):\n",
        "PassengerId    891 non-null int64\n",
        "Survived       891 non-null int64\n",
        "Pclass         891 non-null int64\n",
        "Name           891 non-null object\n",
        "Sex            891 non-null object\n",
        "Age            714 non-null float64\n",
        "SibSp          891 non-null int64\n",
        "Parch          891 non-null int64\n",
        "Ticket         891 non-null object\n",
        "Fare           891 non-null float64\n",
        "Cabin          204 non-null object\n",
        "Embarked       889 non-null object\n",
        "dtypes: float64(2), int64(5), object(5)"
       ]
      }
     ],
     "prompt_number": 116
    },
    {
     "cell_type": "raw",
     "metadata": {},
     "source": [
      "2. What is the overall survival rate?\n",
      "A: 38%"
     ]
    },
    {
     "cell_type": "code",
     "collapsed": false,
     "input": [
      "survival_rate = 100 * float(sum(data['Survived'])) / len(data['Survived'])\n",
      "print \"Survival rate: {0:.0f}%\".format(survival_rate)"
     ],
     "language": "python",
     "metadata": {},
     "outputs": [
      {
       "output_type": "stream",
       "stream": "stdout",
       "text": [
        "Survival rate: 38%\n"
       ]
      }
     ],
     "prompt_number": 43
    },
    {
     "cell_type": "raw",
     "metadata": {},
     "source": [
      "3. How many male passengers were onboard?\n",
      "A: 577 men.\n",
      "\n",
      "4. How many female passengers were onboard?\n",
      "A: 314 women."
     ]
    },
    {
     "cell_type": "code",
     "collapsed": false,
     "input": [
      "data.groupby('Sex').size()"
     ],
     "language": "python",
     "metadata": {},
     "outputs": [
      {
       "metadata": {},
       "output_type": "pyout",
       "prompt_number": 44,
       "text": [
        "Sex\n",
        "female    314\n",
        "male      577\n",
        "dtype: int64"
       ]
      }
     ],
     "prompt_number": 44
    },
    {
     "cell_type": "raw",
     "metadata": {},
     "source": [
      "5. What is the overall survival rate of male passengers?\n",
      "A: 19%\n",
      "\n",
      "6. What is the overall survival rate of female passengers?\n",
      "A: 74%"
     ]
    },
    {
     "cell_type": "code",
     "collapsed": false,
     "input": [
      "# print data.groupby(['Sex','Survived']).size()\n",
      "male_survival_rate = 100 * float(sum(data['Survived'][data['Sex'] == 'male'])) / sum(data['Sex'] == 'male')\n",
      "print \"Male survival rate: {0:.0f}%\".format(male_survival_rate)\n",
      "\n",
      "female_survival_rate = 100 * float(sum(data['Survived'][data['Sex'] == 'female'])) / sum(data['Sex'] == 'female')\n",
      "print \"Female survival rate: {0:.0f}%\".format(female_survival_rate)\n",
      "\n"
     ],
     "language": "python",
     "metadata": {},
     "outputs": [
      {
       "output_type": "stream",
       "stream": "stdout",
       "text": [
        "Male survival rate: 19%\n",
        "Female survival rate: 74%\n"
       ]
      }
     ],
     "prompt_number": 72
    },
    {
     "cell_type": "raw",
     "metadata": {},
     "source": [
      "7. What is the average age of all passengers onboard?\n",
      "a. How did you calculate this average age?\n",
      "b. Did you encounter any problems with this calculation?\n",
      "c. If so, how did you address any problems?\n",
      "\n",
      "A: 29.7 years old.\n",
      "\n",
      "No problems calculating this. The 'Age' field has some NaNs, but np.mean() seems to ignore them. I confirmed this by explicitly removing the NaNs. "
     ]
    },
    {
     "cell_type": "code",
     "collapsed": false,
     "input": [
      "print np.mean(data['Age'])\n",
      "print data['Age'][~np.isnan(data['Age'])].mean()"
     ],
     "language": "python",
     "metadata": {},
     "outputs": [
      {
       "output_type": "stream",
       "stream": "stdout",
       "text": [
        "29.6991176471\n",
        "29.6991176471\n"
       ]
      }
     ],
     "prompt_number": 84
    },
    {
     "cell_type": "raw",
     "metadata": {},
     "source": [
      "8. What is the average age of passengers who survived?\n",
      "A: 28.3 years old\n",
      "\n",
      "9. What is the average age of passengers who did not survive?\n",
      "A: 30.6 years old"
     ]
    },
    {
     "cell_type": "code",
     "collapsed": false,
     "input": [
      "data.groupby('Survived').mean()"
     ],
     "language": "python",
     "metadata": {},
     "outputs": [
      {
       "html": [
        "<div style=\"max-height:1000px;max-width:1500px;overflow:auto;\">\n",
        "<table border=\"1\" class=\"dataframe\">\n",
        "  <thead>\n",
        "    <tr style=\"text-align: right;\">\n",
        "      <th></th>\n",
        "      <th>PassengerId</th>\n",
        "      <th>Pclass</th>\n",
        "      <th>Age</th>\n",
        "      <th>SibSp</th>\n",
        "      <th>Parch</th>\n",
        "      <th>Fare</th>\n",
        "    </tr>\n",
        "    <tr>\n",
        "      <th>Survived</th>\n",
        "      <th></th>\n",
        "      <th></th>\n",
        "      <th></th>\n",
        "      <th></th>\n",
        "      <th></th>\n",
        "      <th></th>\n",
        "    </tr>\n",
        "  </thead>\n",
        "  <tbody>\n",
        "    <tr>\n",
        "      <th>0</th>\n",
        "      <td> 447.016393</td>\n",
        "      <td> 2.531876</td>\n",
        "      <td> 30.626179</td>\n",
        "      <td> 0.553734</td>\n",
        "      <td> 0.329690</td>\n",
        "      <td> 22.117887</td>\n",
        "    </tr>\n",
        "    <tr>\n",
        "      <th>1</th>\n",
        "      <td> 444.368421</td>\n",
        "      <td> 1.950292</td>\n",
        "      <td> 28.343690</td>\n",
        "      <td> 0.473684</td>\n",
        "      <td> 0.464912</td>\n",
        "      <td> 48.395408</td>\n",
        "    </tr>\n",
        "  </tbody>\n",
        "</table>\n",
        "<p>2 rows \u00d7 6 columns</p>\n",
        "</div>"
       ],
       "metadata": {},
       "output_type": "pyout",
       "prompt_number": 82,
       "text": [
        "          PassengerId    Pclass        Age     SibSp     Parch       Fare\n",
        "Survived                                                                 \n",
        "0          447.016393  2.531876  30.626179  0.553734  0.329690  22.117887\n",
        "1          444.368421  1.950292  28.343690  0.473684  0.464912  48.395408\n",
        "\n",
        "[2 rows x 6 columns]"
       ]
      }
     ],
     "prompt_number": 82
    },
    {
     "cell_type": "raw",
     "metadata": {},
     "source": [
      "10. At this (early) point in our analysis, what might you infer about any patterns you are seeing?\n",
      "A: Younger passengers and women were more likely to survive. "
     ]
    },
    {
     "cell_type": "raw",
     "metadata": {},
     "source": [
      "11. How many passengers are in each of the three classes of service (e.g. First, Second, Third?)\n",
      "\n",
      "First class: 216\n",
      "Second class: 184\n",
      "Third class: 491"
     ]
    },
    {
     "cell_type": "code",
     "collapsed": false,
     "input": [
      "data.groupby('Pclass').size()"
     ],
     "language": "python",
     "metadata": {},
     "outputs": [
      {
       "metadata": {},
       "output_type": "pyout",
       "prompt_number": 85,
       "text": [
        "Pclass\n",
        "1         216\n",
        "2         184\n",
        "3         491\n",
        "dtype: int64"
       ]
      }
     ],
     "prompt_number": 85
    },
    {
     "cell_type": "raw",
     "metadata": {},
     "source": [
      "12. What is the survival rate for passengers in each of the three classes of service?\n",
      "A: \n",
      "Passenger Class 1 Survival Rate: 63%\n",
      "Passenger Class 2 Survival Rate: 47%\n",
      "Passenger Class 3 Survival Rate: 24%\n"
     ]
    },
    {
     "cell_type": "code",
     "collapsed": false,
     "input": [
      "# data.groupby(['Pclass','Survived']).size()\n",
      "\n",
      "for name,group in data.groupby('Pclass'):\n",
      "\n",
      "    survival_rate = 100 * float(sum(group['Survived'])) / len(group['Survived'])\n",
      "    print \"Passenger Class\", name, \"Survival Rate: {0:.0f}%\".format(survival_rate)\n",
      "    "
     ],
     "language": "python",
     "metadata": {},
     "outputs": [
      {
       "output_type": "stream",
       "stream": "stdout",
       "text": [
        "Passenger Class 1 Survival Rate: 63%\n",
        "Passenger Class 2 Survival Rate: 47%\n",
        "Passenger Class 3 Survival Rate: 24%\n"
       ]
      }
     ],
     "prompt_number": 112
    },
    {
     "cell_type": "raw",
     "metadata": {},
     "source": [
      "13. Continuing with 10, what else might you conclude?\n",
      "A: Passengers with higher class tickets were more likely to survive. Perhaps tuxes can serve as floatation devices? "
     ]
    },
    {
     "cell_type": "raw",
     "metadata": {},
     "source": [
      "14. Last, if we were to build a predictive model, which features in the data do you think we should include in the model and which can we leave out? Why?\n",
      "A: Sex, passenger class, and age seem to have predictive power on survival (in descending order). Fare and passenger class are probably highly correlated, so perhaps it's not necessary to include both. The Cabin field is probably too specific to be predictive - there are an average of 1.4 passengers per cabin. Perhaps if the cabin field could be generalized into a \"part of the boat\" field, that might be predictive - but probably not."
     ]
    },
    {
     "cell_type": "code",
     "collapsed": false,
     "input": [
      "np.mean(data.groupby('Cabin').size())"
     ],
     "language": "python",
     "metadata": {},
     "outputs": [
      {
       "metadata": {},
       "output_type": "pyout",
       "prompt_number": 115,
       "text": [
        "1.3877551020408163"
       ]
      }
     ],
     "prompt_number": 115
    }
   ],
   "metadata": {}
  }
 ]
}