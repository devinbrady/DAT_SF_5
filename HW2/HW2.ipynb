{
 "metadata": {
  "name": ""
 },
 "nbformat": 3,
 "nbformat_minor": 0,
 "worksheets": [
  {
   "cells": [
    {
     "cell_type": "code",
     "collapsed": false,
     "input": [
      "from sklearn.neighbors import KNeighborsClassifier\n",
      "from sklearn.cross_validation import train_test_split, KFold\n",
      "import numpy as np\n",
      "import matplotlib.pyplot as plt\n",
      "from matplotlib.ticker import MultipleLocator, FormatStrFormatter\n",
      "import pylab as pl\n",
      "import pandas as pd"
     ],
     "language": "python",
     "metadata": {},
     "outputs": [],
     "prompt_number": 128
    },
    {
     "cell_type": "raw",
     "metadata": {},
     "source": [
      "I had trouble loading the iris data from the CSV - namely, the KNeighborsClassifier function threw an error related to data types. The dataframe I created from the CSV is subtly different from the sklearn version in a way I don't yet understand. "
     ]
    },
    {
     "cell_type": "code",
     "collapsed": false,
     "input": [
      "# load iris data from sklearn\n",
      "from sklearn import datasets\n",
      "iris = datasets.load_iris()\n",
      "\n",
      "# load iris data from CSV\n",
      "# iris_csv = pd.read_csv('iris_data.csv')\n",
      "# iris_csv.columns = ['SepalLength','SepalWidth','PetalLength','PetalWidth','Name']\n",
      "# iris_csv.info()"
     ],
     "language": "python",
     "metadata": {},
     "outputs": [],
     "prompt_number": 129
    },
    {
     "cell_type": "code",
     "collapsed": false,
     "input": [
      "x = iris['data']\n",
      "names = iris['feature_names']\n",
      "y = iris['target']\n",
      "\n",
      "# x_csv = iris_csv.as_matrix(names_csv)\n",
      "# names_csv = ['SepalLength','SepalWidth','PetalLength','PetalWidth']\n",
      "\n",
      "# iris_names = iris_csv.as_matrix(['Name'])\n",
      "# y_csv = zeros_like(iris_names)\n",
      "# y_csv[iris_names == 'Iris-setosa'] = 0\n",
      "# y_csv[iris_names == 'Iris-versicolor'] = 1\n",
      "# y_csv[iris_names == 'Iris-virginica'] = 2"
     ],
     "language": "python",
     "metadata": {},
     "outputs": [],
     "prompt_number": 130
    },
    {
     "cell_type": "code",
     "collapsed": false,
     "input": [
      "# run KNN classifier\n",
      "x_train, x_test, y_train, y_test = train_test_split(x, y, test_size = 0.20, random_state = 0)\n",
      "# x_train, x_test, y_train, y_test = train_test_split(x_csv, y_csv, test_size = 0.20, random_state = 0)\n",
      "\n",
      "myknn = KNeighborsClassifier(10).fit(x_train, y_train)\n",
      "print \"KNN Score:\", myknn.score(x_test, y_test)"
     ],
     "language": "python",
     "metadata": {},
     "outputs": [
      {
       "output_type": "stream",
       "stream": "stdout",
       "text": [
        "KNN Score: 1.0\n"
       ]
      }
     ],
     "prompt_number": 131
    },
    {
     "cell_type": "code",
     "collapsed": false,
     "input": [
      "def cross_validate(x, y, classifier, k_fold) : \n",
      "    \n",
      "    \"\"\"Cross validate accuracy from a classification algorithm \n",
      "\n",
      "    Returns: averaged accuracy across folds, between 0 and 1\n",
      "\n",
      "    Keyword arguments:\n",
      "    x -- training data\n",
      "    y -- target data\n",
      "    classifier -- function for classification algorithm\n",
      "    k_fold -- the number of times to slice the data\n",
      "    \n",
      "    \"\"\"\n",
      "    \n",
      "    # derive a set of random training and testing indices\n",
      "    k_fold_indices = KFold(len(x), n_folds  = k_fold, \n",
      "                           indices = True, shuffle=True,\n",
      "                           random_state = 0)\n",
      "    \n",
      "    k_score_total = 0\n",
      "    # for each training and testing slices run the classifier, and score the results\n",
      "    for train_slice, test_slice in k_fold_indices: \n",
      "        \n",
      "        model = classifier(x[[ train_slice ]],\n",
      "                           y[[ train_slice ]])\n",
      "        \n",
      "        k_score = model.score(x[[ test_slice ]],\n",
      "                           y[[ test_slice ]])\n",
      "        \n",
      "        k_score_total += k_score\n",
      "    \n",
      "\n",
      "    return k_score_total / k_fold"
     ],
     "language": "python",
     "metadata": {},
     "outputs": [],
     "prompt_number": 132
    },
    {
     "cell_type": "code",
     "collapsed": false,
     "input": [
      "# Find the value of K that produces the highest accuracy\n",
      "max_k = 150\n",
      "k_values = range(1, max_k)\n",
      "\n",
      "# initialize dataframe to store results\n",
      "k_results = pd.DataFrame(index=k_values, columns=['CrossValidationResult'])\n",
      "\n",
      "for k in k_values:\n",
      "    k_results['CrossValidationResult'][k] = cross_validate(x, y, KNeighborsClassifier(k).fit, 10)\n",
      "\n",
      "best_k_value = k_results.ix[k_results['CrossValidationResult'].idxmax()].name\n",
      "best_k_score = k_results['CrossValidationResult'].max()\n",
      "\n",
      "print \"Best K Value: \", best_k_value\n",
      "print \"Best K Score: \", best_k_score"
     ],
     "language": "python",
     "metadata": {},
     "outputs": [
      {
       "output_type": "stream",
       "stream": "stdout",
       "text": [
        "Best K Value:  14\n",
        "Best K Score:  0.966666666667\n"
       ]
      }
     ],
     "prompt_number": 133
    },
    {
     "cell_type": "code",
     "collapsed": false,
     "input": [
      "# Plot results of cross-validation\n",
      "\n",
      "fig, ax = plt.subplots()\n",
      "rects1 = ax.bar(k_values, k_results['CrossValidationResult'], color = 'r')\n",
      "\n",
      "# add labels\n",
      "ax.set_title('KNN Accuracy by K Value')\n",
      "ax.set_ylabel('Classifier Accuracy')\n",
      "ax.set_xlabel('K Value')\n",
      "\n",
      "plt.show()"
     ],
     "language": "python",
     "metadata": {},
     "outputs": [
      {
       "metadata": {},
       "output_type": "display_data",
       "png": "[encoded data removed]",
       "text": [
        "<matplotlib.figure.Figure at 0x10d19f710>"
       ]
      }
     ],
     "prompt_number": 134
    },
    {
     "cell_type": "raw",
     "metadata": {},
     "source": [
      "The accuracy of the KNN classification steadily drops as k increases. Around k = 80, accuracy drops signficantly. Around k = 130, accuracy drops below chance level (33% accurate at classifying the irises as setosa, versicolor, and virginica). "
     ]
    },
    {
     "cell_type": "code",
     "collapsed": false,
     "input": [
      "# try different number of folds in cross validation\n",
      "folds = [2, 3, 5, 6, 10, 15, 20, 25]\n",
      "\n",
      "# initialize dataframe to store results\n",
      "folds_results = pd.DataFrame(index=folds, columns=['CrossValidationResult'])\n",
      "\n",
      "for f in folds: \n",
      "    folds_results['CrossValidationResult'][f] = cross_validate(x, y, KNeighborsClassifier(best_k_value).fit, f)\n",
      "\n",
      "folds_results"
     ],
     "language": "python",
     "metadata": {},
     "outputs": [
      {
       "html": [
        "<div style=\"max-height:1000px;max-width:1500px;overflow:auto;\">\n",
        "<table border=\"1\" class=\"dataframe\">\n",
        "  <thead>\n",
        "    <tr style=\"text-align: right;\">\n",
        "      <th></th>\n",
        "      <th>CrossValidationResult</th>\n",
        "    </tr>\n",
        "  </thead>\n",
        "  <tbody>\n",
        "    <tr>\n",
        "      <th>2 </th>\n",
        "      <td> 0.9533333</td>\n",
        "    </tr>\n",
        "    <tr>\n",
        "      <th>3 </th>\n",
        "      <td> 0.9533333</td>\n",
        "    </tr>\n",
        "    <tr>\n",
        "      <th>5 </th>\n",
        "      <td> 0.9533333</td>\n",
        "    </tr>\n",
        "    <tr>\n",
        "      <th>6 </th>\n",
        "      <td>      0.96</td>\n",
        "    </tr>\n",
        "    <tr>\n",
        "      <th>10</th>\n",
        "      <td> 0.9666667</td>\n",
        "    </tr>\n",
        "    <tr>\n",
        "      <th>15</th>\n",
        "      <td>      0.96</td>\n",
        "    </tr>\n",
        "    <tr>\n",
        "      <th>20</th>\n",
        "      <td> 0.9678571</td>\n",
        "    </tr>\n",
        "    <tr>\n",
        "      <th>25</th>\n",
        "      <td> 0.9666667</td>\n",
        "    </tr>\n",
        "  </tbody>\n",
        "</table>\n",
        "<p>8 rows \u00d7 1 columns</p>\n",
        "</div>"
       ],
       "metadata": {},
       "output_type": "pyout",
       "prompt_number": 136,
       "text": [
        "   CrossValidationResult\n",
        "2              0.9533333\n",
        "3              0.9533333\n",
        "5              0.9533333\n",
        "6                   0.96\n",
        "10             0.9666667\n",
        "15                  0.96\n",
        "20             0.9678571\n",
        "25             0.9666667\n",
        "\n",
        "[8 rows x 1 columns]"
       ]
      }
     ],
     "prompt_number": 136
    },
    {
     "cell_type": "raw",
     "metadata": {},
     "source": [
      "The number of folds in the cross validation does not have a large impact on the results. I don't think that there is an \"optimal\" number of folds (if processing time is not a consideration), since you're only slicing up your data into slightly differently-sized slices. "
     ]
    }
   ],
   "metadata": {}
  }
 ]
}